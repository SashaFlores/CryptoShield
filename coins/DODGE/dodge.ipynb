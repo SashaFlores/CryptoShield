{
 "cells": [
  {
   "cell_type": "code",
   "execution_count": 1,
   "metadata": {},
   "outputs": [],
   "source": [
    "\n",
    "import pandas as pd\n",
    "from pathlib import Path\n",
    "import glob"
   ]
  },
  {
   "cell_type": "code",
   "execution_count": 2,
   "metadata": {},
   "outputs": [
    {
     "data": {
      "text/html": [
       "<div>\n",
       "<style scoped>\n",
       "    .dataframe tbody tr th:only-of-type {\n",
       "        vertical-align: middle;\n",
       "    }\n",
       "\n",
       "    .dataframe tbody tr th {\n",
       "        vertical-align: top;\n",
       "    }\n",
       "\n",
       "    .dataframe thead th {\n",
       "        text-align: right;\n",
       "    }\n",
       "</style>\n",
       "<table border=\"1\" class=\"dataframe\">\n",
       "  <thead>\n",
       "    <tr style=\"text-align: right;\">\n",
       "      <th></th>\n",
       "      <th>open</th>\n",
       "      <th>high</th>\n",
       "      <th>low</th>\n",
       "      <th>close</th>\n",
       "      <th>volume</th>\n",
       "      <th>marketCap</th>\n",
       "    </tr>\n",
       "    <tr>\n",
       "      <th>Date</th>\n",
       "      <th></th>\n",
       "      <th></th>\n",
       "      <th></th>\n",
       "      <th></th>\n",
       "      <th></th>\n",
       "      <th></th>\n",
       "    </tr>\n",
       "  </thead>\n",
       "  <tbody>\n",
       "    <tr>\n",
       "      <th>2023-05-21</th>\n",
       "      <td>0.073666</td>\n",
       "      <td>0.073979</td>\n",
       "      <td>0.072082</td>\n",
       "      <td>0.072142</td>\n",
       "      <td>1.422328e+08</td>\n",
       "      <td>1.005968e+10</td>\n",
       "    </tr>\n",
       "    <tr>\n",
       "      <th>2023-05-20</th>\n",
       "      <td>0.073540</td>\n",
       "      <td>0.073844</td>\n",
       "      <td>0.073225</td>\n",
       "      <td>0.073670</td>\n",
       "      <td>1.155580e+08</td>\n",
       "      <td>1.027176e+10</td>\n",
       "    </tr>\n",
       "    <tr>\n",
       "      <th>2023-05-19</th>\n",
       "      <td>0.073535</td>\n",
       "      <td>0.073956</td>\n",
       "      <td>0.073162</td>\n",
       "      <td>0.073527</td>\n",
       "      <td>1.688394e+08</td>\n",
       "      <td>1.025074e+10</td>\n",
       "    </tr>\n",
       "    <tr>\n",
       "      <th>2023-05-18</th>\n",
       "      <td>0.074902</td>\n",
       "      <td>0.074902</td>\n",
       "      <td>0.071909</td>\n",
       "      <td>0.073546</td>\n",
       "      <td>3.089432e+08</td>\n",
       "      <td>1.025246e+10</td>\n",
       "    </tr>\n",
       "    <tr>\n",
       "      <th>2023-05-17</th>\n",
       "      <td>0.072730</td>\n",
       "      <td>0.075308</td>\n",
       "      <td>0.072466</td>\n",
       "      <td>0.074911</td>\n",
       "      <td>3.271666e+08</td>\n",
       "      <td>1.044175e+10</td>\n",
       "    </tr>\n",
       "  </tbody>\n",
       "</table>\n",
       "</div>"
      ],
      "text/plain": [
       "                open      high       low     close        volume     marketCap\n",
       "Date                                                                          \n",
       "2023-05-21  0.073666  0.073979  0.072082  0.072142  1.422328e+08  1.005968e+10\n",
       "2023-05-20  0.073540  0.073844  0.073225  0.073670  1.155580e+08  1.027176e+10\n",
       "2023-05-19  0.073535  0.073956  0.073162  0.073527  1.688394e+08  1.025074e+10\n",
       "2023-05-18  0.074902  0.074902  0.071909  0.073546  3.089432e+08  1.025246e+10\n",
       "2023-05-17  0.072730  0.075308  0.072466  0.074911  3.271666e+08  1.044175e+10"
      ]
     },
     "execution_count": 2,
     "metadata": {},
     "output_type": "execute_result"
    }
   ],
   "source": [
    "files_path = glob.glob('./coins/DODGE/*.csv')\n",
    "dodge_dfs = []\n",
    "for file_path in files_path:\n",
    "    dodge_df = pd.read_csv(file_path)\n",
    "    dodge_dfs.append(dodge_df)\n",
    "dodge = pd.concat(dodge_dfs)\n",
    "dodge['Date'] = pd.to_datetime(dodge['timestamp']).dt.date\n",
    "dodge = dodge.drop(columns=['timestamp']).set_index('Date').sort_index(ascending=False)\n",
    "dodge.head()"
   ]
  },
  {
   "cell_type": "code",
   "execution_count": 3,
   "metadata": {},
   "outputs": [
    {
     "name": "stdout",
     "output_type": "stream",
     "text": [
      "<class 'pandas.core.frame.DataFrame'>\n",
      "Index: 1371 entries, 2023-05-21 to 2020-01-02\n",
      "Data columns (total 6 columns):\n",
      " #   Column     Non-Null Count  Dtype  \n",
      "---  ------     --------------  -----  \n",
      " 0   open       1371 non-null   float64\n",
      " 1   high       1371 non-null   float64\n",
      " 2   low        1371 non-null   float64\n",
      " 3   close      1371 non-null   float64\n",
      " 4   volume     1371 non-null   float64\n",
      " 5   marketCap  1371 non-null   float64\n",
      "dtypes: float64(6)\n",
      "memory usage: 75.0+ KB\n"
     ]
    }
   ],
   "source": [
    "dodge.info()"
   ]
  },
  {
   "cell_type": "code",
   "execution_count": null,
   "metadata": {},
   "outputs": [],
   "source": []
  }
 ],
 "metadata": {
  "kernelspec": {
   "display_name": "py3.11",
   "language": "python",
   "name": "python3"
  },
  "language_info": {
   "codemirror_mode": {
    "name": "ipython",
    "version": 3
   },
   "file_extension": ".py",
   "mimetype": "text/x-python",
   "name": "python",
   "nbconvert_exporter": "python",
   "pygments_lexer": "ipython3",
   "version": "3.11.3"
  },
  "orig_nbformat": 4
 },
 "nbformat": 4,
 "nbformat_minor": 2
}

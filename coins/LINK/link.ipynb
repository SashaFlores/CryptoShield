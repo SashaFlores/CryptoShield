{
 "cells": [
  {
   "cell_type": "code",
   "execution_count": 1,
   "metadata": {},
   "outputs": [],
   "source": [
    "\n",
    "import pandas as pd\n",
    "from pathlib import Path\n",
    "import glob"
   ]
  },
  {
   "cell_type": "code",
   "execution_count": 2,
   "metadata": {},
   "outputs": [
    {
     "data": {
      "text/html": [
       "<div>\n",
       "<style scoped>\n",
       "    .dataframe tbody tr th:only-of-type {\n",
       "        vertical-align: middle;\n",
       "    }\n",
       "\n",
       "    .dataframe tbody tr th {\n",
       "        vertical-align: top;\n",
       "    }\n",
       "\n",
       "    .dataframe thead th {\n",
       "        text-align: right;\n",
       "    }\n",
       "</style>\n",
       "<table border=\"1\" class=\"dataframe\">\n",
       "  <thead>\n",
       "    <tr style=\"text-align: right;\">\n",
       "      <th></th>\n",
       "      <th>open</th>\n",
       "      <th>high</th>\n",
       "      <th>low</th>\n",
       "      <th>close</th>\n",
       "      <th>volume</th>\n",
       "      <th>marketCap</th>\n",
       "    </tr>\n",
       "    <tr>\n",
       "      <th>Date</th>\n",
       "      <th></th>\n",
       "      <th></th>\n",
       "      <th></th>\n",
       "      <th></th>\n",
       "      <th></th>\n",
       "      <th></th>\n",
       "    </tr>\n",
       "  </thead>\n",
       "  <tbody>\n",
       "    <tr>\n",
       "      <th>2023-05-21</th>\n",
       "      <td>6.512175</td>\n",
       "      <td>6.540746</td>\n",
       "      <td>6.382348</td>\n",
       "      <td>6.429470</td>\n",
       "      <td>9.081439e+07</td>\n",
       "      <td>3.324679e+09</td>\n",
       "    </tr>\n",
       "    <tr>\n",
       "      <th>2023-05-20</th>\n",
       "      <td>6.508691</td>\n",
       "      <td>6.538308</td>\n",
       "      <td>6.482776</td>\n",
       "      <td>6.512511</td>\n",
       "      <td>6.901831e+07</td>\n",
       "      <td>3.367619e+09</td>\n",
       "    </tr>\n",
       "    <tr>\n",
       "      <th>2023-05-19</th>\n",
       "      <td>6.535010</td>\n",
       "      <td>6.547083</td>\n",
       "      <td>6.478051</td>\n",
       "      <td>6.508409</td>\n",
       "      <td>1.021332e+08</td>\n",
       "      <td>3.365498e+09</td>\n",
       "    </tr>\n",
       "    <tr>\n",
       "      <th>2023-05-18</th>\n",
       "      <td>6.753480</td>\n",
       "      <td>6.758719</td>\n",
       "      <td>6.459141</td>\n",
       "      <td>6.534812</td>\n",
       "      <td>1.404497e+08</td>\n",
       "      <td>3.379151e+09</td>\n",
       "    </tr>\n",
       "    <tr>\n",
       "      <th>2023-05-17</th>\n",
       "      <td>6.658661</td>\n",
       "      <td>6.797799</td>\n",
       "      <td>6.560743</td>\n",
       "      <td>6.753897</td>\n",
       "      <td>1.689396e+08</td>\n",
       "      <td>3.492440e+09</td>\n",
       "    </tr>\n",
       "  </tbody>\n",
       "</table>\n",
       "</div>"
      ],
      "text/plain": [
       "                open      high       low     close        volume     marketCap\n",
       "Date                                                                          \n",
       "2023-05-21  6.512175  6.540746  6.382348  6.429470  9.081439e+07  3.324679e+09\n",
       "2023-05-20  6.508691  6.538308  6.482776  6.512511  6.901831e+07  3.367619e+09\n",
       "2023-05-19  6.535010  6.547083  6.478051  6.508409  1.021332e+08  3.365498e+09\n",
       "2023-05-18  6.753480  6.758719  6.459141  6.534812  1.404497e+08  3.379151e+09\n",
       "2023-05-17  6.658661  6.797799  6.560743  6.753897  1.689396e+08  3.492440e+09"
      ]
     },
     "execution_count": 2,
     "metadata": {},
     "output_type": "execute_result"
    }
   ],
   "source": [
    "files_path = glob.glob('./coins/LINK/*.csv')\n",
    "link_dfs = []\n",
    "for file_path in files_path:\n",
    "    link_df = pd.read_csv(file_path)\n",
    "    link_dfs.append(link_df)\n",
    "link = pd.concat(link_dfs)\n",
    "link['Date'] = pd.to_datetime(link['timestamp']).dt.date\n",
    "link = link.drop(columns=['timestamp']).set_index('Date').sort_index(ascending=False)\n",
    "link.head()"
   ]
  },
  {
   "cell_type": "code",
   "execution_count": 3,
   "metadata": {},
   "outputs": [
    {
     "name": "stdout",
     "output_type": "stream",
     "text": [
      "<class 'pandas.core.frame.DataFrame'>\n",
      "Index: 1232 entries, 2023-05-21 to 2020-01-02\n",
      "Data columns (total 6 columns):\n",
      " #   Column     Non-Null Count  Dtype  \n",
      "---  ------     --------------  -----  \n",
      " 0   open       1232 non-null   float64\n",
      " 1   high       1232 non-null   float64\n",
      " 2   low        1232 non-null   float64\n",
      " 3   close      1232 non-null   float64\n",
      " 4   volume     1232 non-null   float64\n",
      " 5   marketCap  1232 non-null   float64\n",
      "dtypes: float64(6)\n",
      "memory usage: 67.4+ KB\n"
     ]
    }
   ],
   "source": [
    "link.info()"
   ]
  },
  {
   "cell_type": "code",
   "execution_count": null,
   "metadata": {},
   "outputs": [],
   "source": []
  }
 ],
 "metadata": {
  "kernelspec": {
   "display_name": "py3.11",
   "language": "python",
   "name": "python3"
  },
  "language_info": {
   "codemirror_mode": {
    "name": "ipython",
    "version": 3
   },
   "file_extension": ".py",
   "mimetype": "text/x-python",
   "name": "python",
   "nbconvert_exporter": "python",
   "pygments_lexer": "ipython3",
   "version": "3.11.3"
  },
  "orig_nbformat": 4
 },
 "nbformat": 4,
 "nbformat_minor": 2
}

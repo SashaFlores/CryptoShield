{
 "cells": [
  {
   "cell_type": "code",
   "execution_count": 1,
   "metadata": {},
   "outputs": [],
   "source": [
    "\n",
    "import pandas as pd\n",
    "from pathlib import Path\n",
    "import glob"
   ]
  },
  {
   "cell_type": "code",
   "execution_count": 2,
   "metadata": {},
   "outputs": [
    {
     "data": {
      "text/html": [
       "<div>\n",
       "<style scoped>\n",
       "    .dataframe tbody tr th:only-of-type {\n",
       "        vertical-align: middle;\n",
       "    }\n",
       "\n",
       "    .dataframe tbody tr th {\n",
       "        vertical-align: top;\n",
       "    }\n",
       "\n",
       "    .dataframe thead th {\n",
       "        text-align: right;\n",
       "    }\n",
       "</style>\n",
       "<table border=\"1\" class=\"dataframe\">\n",
       "  <thead>\n",
       "    <tr style=\"text-align: right;\">\n",
       "      <th></th>\n",
       "      <th>open</th>\n",
       "      <th>high</th>\n",
       "      <th>low</th>\n",
       "      <th>close</th>\n",
       "      <th>volume</th>\n",
       "      <th>marketCap</th>\n",
       "    </tr>\n",
       "    <tr>\n",
       "      <th>Date</th>\n",
       "      <th></th>\n",
       "      <th></th>\n",
       "      <th></th>\n",
       "      <th></th>\n",
       "      <th></th>\n",
       "      <th></th>\n",
       "    </tr>\n",
       "  </thead>\n",
       "  <tbody>\n",
       "    <tr>\n",
       "      <th>2023-05-21</th>\n",
       "      <td>0.877049</td>\n",
       "      <td>0.879284</td>\n",
       "      <td>0.855661</td>\n",
       "      <td>0.856783</td>\n",
       "      <td>1.936366e+08</td>\n",
       "      <td>7.950488e+09</td>\n",
       "    </tr>\n",
       "    <tr>\n",
       "      <th>2023-05-20</th>\n",
       "      <td>0.870994</td>\n",
       "      <td>0.878638</td>\n",
       "      <td>0.865311</td>\n",
       "      <td>0.877145</td>\n",
       "      <td>2.055881e+08</td>\n",
       "      <td>8.139441e+09</td>\n",
       "    </tr>\n",
       "    <tr>\n",
       "      <th>2023-05-19</th>\n",
       "      <td>0.872651</td>\n",
       "      <td>0.878371</td>\n",
       "      <td>0.865093</td>\n",
       "      <td>0.870935</td>\n",
       "      <td>2.619622e+08</td>\n",
       "      <td>8.081810e+09</td>\n",
       "    </tr>\n",
       "    <tr>\n",
       "      <th>2023-05-18</th>\n",
       "      <td>0.887504</td>\n",
       "      <td>0.888908</td>\n",
       "      <td>0.847198</td>\n",
       "      <td>0.872701</td>\n",
       "      <td>3.588353e+08</td>\n",
       "      <td>8.098199e+09</td>\n",
       "    </tr>\n",
       "    <tr>\n",
       "      <th>2023-05-17</th>\n",
       "      <td>0.845891</td>\n",
       "      <td>0.900021</td>\n",
       "      <td>0.842083</td>\n",
       "      <td>0.887680</td>\n",
       "      <td>4.457807e+08</td>\n",
       "      <td>8.237200e+09</td>\n",
       "    </tr>\n",
       "  </tbody>\n",
       "</table>\n",
       "</div>"
      ],
      "text/plain": [
       "                open      high       low     close        volume     marketCap\n",
       "Date                                                                          \n",
       "2023-05-21  0.877049  0.879284  0.855661  0.856783  1.936366e+08  7.950488e+09\n",
       "2023-05-20  0.870994  0.878638  0.865311  0.877145  2.055881e+08  8.139441e+09\n",
       "2023-05-19  0.872651  0.878371  0.865093  0.870935  2.619622e+08  8.081810e+09\n",
       "2023-05-18  0.887504  0.888908  0.847198  0.872701  3.588353e+08  8.098199e+09\n",
       "2023-05-17  0.845891  0.900021  0.842083  0.887680  4.457807e+08  8.237200e+09"
      ]
     },
     "execution_count": 2,
     "metadata": {},
     "output_type": "execute_result"
    }
   ],
   "source": [
    "files_path = glob.glob('./coins/MATIC/*.csv')\n",
    "matic_dfs = []\n",
    "for file_path in files_path:\n",
    "    matic_df = pd.read_csv(file_path)\n",
    "    matic_dfs.append(matic_df)\n",
    "matic = pd.concat(matic_dfs)\n",
    "matic['Date'] = pd.to_datetime(matic['timestamp']).dt.date\n",
    "matic = matic.drop(columns=['timestamp']).set_index('Date').sort_index(ascending=False)\n",
    "matic.head()"
   ]
  },
  {
   "cell_type": "code",
   "execution_count": 3,
   "metadata": {},
   "outputs": [
    {
     "name": "stdout",
     "output_type": "stream",
     "text": [
      "<class 'pandas.core.frame.DataFrame'>\n",
      "Index: 1371 entries, 2023-05-21 to 2020-01-02\n",
      "Data columns (total 6 columns):\n",
      " #   Column     Non-Null Count  Dtype  \n",
      "---  ------     --------------  -----  \n",
      " 0   open       1371 non-null   float64\n",
      " 1   high       1371 non-null   float64\n",
      " 2   low        1371 non-null   float64\n",
      " 3   close      1371 non-null   float64\n",
      " 4   volume     1371 non-null   float64\n",
      " 5   marketCap  1371 non-null   float64\n",
      "dtypes: float64(6)\n",
      "memory usage: 75.0+ KB\n"
     ]
    }
   ],
   "source": [
    "matic.info()"
   ]
  },
  {
   "cell_type": "code",
   "execution_count": null,
   "metadata": {},
   "outputs": [],
   "source": []
  }
 ],
 "metadata": {
  "kernelspec": {
   "display_name": "py3.11",
   "language": "python",
   "name": "python3"
  },
  "language_info": {
   "codemirror_mode": {
    "name": "ipython",
    "version": 3
   },
   "file_extension": ".py",
   "mimetype": "text/x-python",
   "name": "python",
   "nbconvert_exporter": "python",
   "pygments_lexer": "ipython3",
   "version": "3.11.3"
  },
  "orig_nbformat": 4
 },
 "nbformat": 4,
 "nbformat_minor": 2
}

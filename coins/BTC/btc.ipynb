{
 "cells": [
  {
   "cell_type": "code",
   "execution_count": 1,
   "metadata": {},
   "outputs": [],
   "source": [
    "\n",
    "import pandas as pd\n",
    "from pathlib import Path\n",
    "import glob"
   ]
  },
  {
   "cell_type": "code",
   "execution_count": 2,
   "metadata": {},
   "outputs": [
    {
     "data": {
      "text/html": [
       "<div>\n",
       "<style scoped>\n",
       "    .dataframe tbody tr th:only-of-type {\n",
       "        vertical-align: middle;\n",
       "    }\n",
       "\n",
       "    .dataframe tbody tr th {\n",
       "        vertical-align: top;\n",
       "    }\n",
       "\n",
       "    .dataframe thead th {\n",
       "        text-align: right;\n",
       "    }\n",
       "</style>\n",
       "<table border=\"1\" class=\"dataframe\">\n",
       "  <thead>\n",
       "    <tr style=\"text-align: right;\">\n",
       "      <th></th>\n",
       "      <th>open</th>\n",
       "      <th>high</th>\n",
       "      <th>low</th>\n",
       "      <th>close</th>\n",
       "      <th>volume</th>\n",
       "      <th>marketCap</th>\n",
       "    </tr>\n",
       "    <tr>\n",
       "      <th>Date</th>\n",
       "      <th></th>\n",
       "      <th></th>\n",
       "      <th></th>\n",
       "      <th></th>\n",
       "      <th></th>\n",
       "      <th></th>\n",
       "    </tr>\n",
       "  </thead>\n",
       "  <tbody>\n",
       "    <tr>\n",
       "      <th>2023-05-21</th>\n",
       "      <td>27118.423228</td>\n",
       "      <td>27265.917992</td>\n",
       "      <td>26706.921354</td>\n",
       "      <td>26753.825639</td>\n",
       "      <td>8647416920.950001</td>\n",
       "      <td>5.184895e+11</td>\n",
       "    </tr>\n",
       "    <tr>\n",
       "      <th>2023-05-20</th>\n",
       "      <td>26888.841391</td>\n",
       "      <td>27155.159026</td>\n",
       "      <td>26843.277381</td>\n",
       "      <td>27129.586255</td>\n",
       "      <td>7044911360.48</td>\n",
       "      <td>5.257461e+11</td>\n",
       "    </tr>\n",
       "    <tr>\n",
       "      <th>2023-05-19</th>\n",
       "      <td>26826.754786</td>\n",
       "      <td>27128.618843</td>\n",
       "      <td>26700.210142</td>\n",
       "      <td>26890.128242</td>\n",
       "      <td>11258983300.889999</td>\n",
       "      <td>5.210833e+11</td>\n",
       "    </tr>\n",
       "    <tr>\n",
       "      <th>2023-05-18</th>\n",
       "      <td>27401.650208</td>\n",
       "      <td>27466.527590</td>\n",
       "      <td>26415.101483</td>\n",
       "      <td>26832.209300</td>\n",
       "      <td>15222938600.41</td>\n",
       "      <td>5.199359e+11</td>\n",
       "    </tr>\n",
       "    <tr>\n",
       "      <th>2023-05-17</th>\n",
       "      <td>27035.470130</td>\n",
       "      <td>27465.927904</td>\n",
       "      <td>26600.144844</td>\n",
       "      <td>27398.802028</td>\n",
       "      <td>15140006925.18</td>\n",
       "      <td>5.308901e+11</td>\n",
       "    </tr>\n",
       "  </tbody>\n",
       "</table>\n",
       "</div>"
      ],
      "text/plain": [
       "                    open          high           low         close   \n",
       "Date                                                                 \n",
       "2023-05-21  27118.423228  27265.917992  26706.921354  26753.825639  \\\n",
       "2023-05-20  26888.841391  27155.159026  26843.277381  27129.586255   \n",
       "2023-05-19  26826.754786  27128.618843  26700.210142  26890.128242   \n",
       "2023-05-18  27401.650208  27466.527590  26415.101483  26832.209300   \n",
       "2023-05-17  27035.470130  27465.927904  26600.144844  27398.802028   \n",
       "\n",
       "                        volume     marketCap  \n",
       "Date                                          \n",
       "2023-05-21   8647416920.950001  5.184895e+11  \n",
       "2023-05-20       7044911360.48  5.257461e+11  \n",
       "2023-05-19  11258983300.889999  5.210833e+11  \n",
       "2023-05-18      15222938600.41  5.199359e+11  \n",
       "2023-05-17      15140006925.18  5.308901e+11  "
      ]
     },
     "execution_count": 2,
     "metadata": {},
     "output_type": "execute_result"
    }
   ],
   "source": [
    "files_path = glob.glob('./coins/BTC/*.csv')\n",
    "btc_dfs = []\n",
    "for file_path in files_path:\n",
    "    btc_df = pd.read_csv(file_path)\n",
    "    btc_dfs.append(btc_df)\n",
    "btc = pd.concat(btc_dfs)\n",
    "btc['Date'] = pd.to_datetime(btc['timestamp']).dt.date\n",
    "btc = btc.drop(columns=['timestamp']).set_index('Date').sort_index(ascending=False)\n",
    "btc.head()"
   ]
  },
  {
   "cell_type": "code",
   "execution_count": 10,
   "metadata": {},
   "outputs": [
    {
     "name": "stdout",
     "output_type": "stream",
     "text": [
      "<class 'pandas.core.frame.DataFrame'>\n",
      "Index: 1371 entries, 2023-05-21 to 2020-01-02\n",
      "Data columns (total 6 columns):\n",
      " #   Column     Non-Null Count  Dtype  \n",
      "---  ------     --------------  -----  \n",
      " 0   open       1371 non-null   float64\n",
      " 1   high       1371 non-null   float64\n",
      " 2   low        1371 non-null   float64\n",
      " 3   close      1371 non-null   float64\n",
      " 4   volume     1371 non-null   object \n",
      " 5   marketCap  1371 non-null   float64\n",
      "dtypes: float64(5), object(1)\n",
      "memory usage: 75.0+ KB\n"
     ]
    }
   ],
   "source": [
    "btc.info()"
   ]
  },
  {
   "cell_type": "code",
   "execution_count": null,
   "metadata": {},
   "outputs": [],
   "source": []
  }
 ],
 "metadata": {
  "kernelspec": {
   "display_name": "py3.11",
   "language": "python",
   "name": "python3"
  },
  "language_info": {
   "codemirror_mode": {
    "name": "ipython",
    "version": 3
   },
   "file_extension": ".py",
   "mimetype": "text/x-python",
   "name": "python",
   "nbconvert_exporter": "python",
   "pygments_lexer": "ipython3",
   "version": "3.11.3"
  },
  "orig_nbformat": 4
 },
 "nbformat": 4,
 "nbformat_minor": 2
}
